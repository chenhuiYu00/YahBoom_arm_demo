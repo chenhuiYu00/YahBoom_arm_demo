{
 "cells": [
  {
   "cell_type": "code",
   "execution_count": 1,
   "metadata": {},
   "outputs": [],
   "source": [
    "import cv2\n",
    "import socket\n",
    "import numpy as np\n",
    "import pickle\n",
    "import struct\n",
    "import time"
   ]
  },
  {
   "cell_type": "code",
   "execution_count": 2,
   "metadata": {},
   "outputs": [],
   "source": [
    "def start_server(host='0.0.0.0', port=12345):\n",
    "    server_socket = socket.socket(socket.AF_INET, socket.SOCK_STREAM)\n",
    "    server_socket.bind((host, port))\n",
    "    server_socket.listen(1)\n",
    "\n",
    "    print(\"Server is running and waiting for a connection...\")\n",
    "\n",
    "    while True:\n",
    "        try:\n",
    "            conn, addr = server_socket.accept()\n",
    "            print(f\"Connected to {addr}\")\n",
    "\n",
    "            video_capture = cv2.VideoCapture(0)\n",
    "\n",
    "            while True:\n",
    "                ret, frame = video_capture.read()\n",
    "                cv2.resize(frame, (640, 480))\n",
    "                #cv2.resize(frame, (1280, 720))\n",
    "\n",
    "                if not ret:\n",
    "                    break\n",
    "\n",
    "                # 压缩帧\n",
    "                result, encoded_frame = cv2.imencode('.jpg', frame, [cv2.IMWRITE_JPEG_QUALITY, 70])\n",
    "                \n",
    "                # 发送数据长度然后发送图像数据\n",
    "                data = pickle.dumps(encoded_frame)\n",
    "                try:\n",
    "                    conn.sendall(struct.pack(\"L\", len(data)) + data)  # 先发送数据长度\n",
    "                except (BrokenPipeError, ConnectionResetError):\n",
    "                    print(f\"Connection with {addr} lost. Waiting for a new connection...\")\n",
    "                    break\n",
    "                    \n",
    "                time.sleep(0.2)\n",
    "\n",
    "        except Exception as e:\n",
    "            print(f\"An error occurred: {e}\")\n",
    "        \n",
    "        finally:\n",
    "            if 'video_capture' in locals():\n",
    "                video_capture.release()\n",
    "            if 'conn' in locals():\n",
    "                conn.close()"
   ]
  },
  {
   "cell_type": "code",
   "execution_count": null,
   "metadata": {},
   "outputs": [
    {
     "name": "stdout",
     "output_type": "stream",
     "text": [
      "Server is running and waiting for a connection...\n",
      "Connected to ('192.168.1.169', 47436)\n",
      "Connection with ('192.168.1.169', 47436) lost. Waiting for a new connection...\n",
      "Connected to ('192.168.1.169', 35402)\n",
      "Connection with ('192.168.1.169', 35402) lost. Waiting for a new connection...\n",
      "Connected to ('192.168.1.169', 52138)\n"
     ]
    }
   ],
   "source": [
    "start_server('0.0.0.0',8188)"
   ]
  },
  {
   "cell_type": "code",
   "execution_count": null,
   "metadata": {},
   "outputs": [],
   "source": []
  }
 ],
 "metadata": {
  "kernelspec": {
   "display_name": "Python 3",
   "language": "python",
   "name": "python3"
  },
  "language_info": {
   "codemirror_mode": {
    "name": "ipython",
    "version": 3
   },
   "file_extension": ".py",
   "mimetype": "text/x-python",
   "name": "python",
   "nbconvert_exporter": "python",
   "pygments_lexer": "ipython3",
   "version": "3.6.9"
  }
 },
 "nbformat": 4,
 "nbformat_minor": 4
}
