{
 "cells": [
  {
   "cell_type": "code",
   "execution_count": 2,
   "metadata": {},
   "outputs": [],
   "source": [
    "import socket\n",
    "from IPython.display import clear_output\n"
   ]
  },
  {
   "cell_type": "code",
   "execution_count": 3,
   "metadata": {},
   "outputs": [],
   "source": [
    "def start_receiver(host='0.0.0.0', port=12345):\n",
    "    # 创建 TCP 套接字\n",
    "    client_socket = socket.socket(socket.AF_INET, socket.SOCK_STREAM)\n",
    "    client_socket.connect((host, port))  # 连接到目标主机和端口\n",
    "    print(f\"Connected to server at {host}:{port}\")\n",
    "\n",
    "    try:\n",
    "        while True:\n",
    "            # 循环接收数据\n",
    "            data = client_socket.recv(1024)  # 假设最大接收数据为 1024 字节\n",
    "            if not data:\n",
    "                print(\"Connection closed by server.\")\n",
    "                break\n",
    "\n",
    "            # 解析接收到的数据\n",
    "            if len(data) >= 8:  # 至少要有 8 个字节 (1 + 1 + 6)\n",
    "                recent_model = data[0]\n",
    "                detection = data[1]\n",
    "                slider_angles = data[2:8]  # 获取后 6 个字节，对应滑块的角度值\n",
    "\n",
    "                # 打印解析结果\n",
    "                clear_output(wait=True) \n",
    "                print(f\"Received data: {data.hex()}\")\n",
    "                print(f\"Recent Model: {recent_model}\")\n",
    "                print(f\"Detection: {detection}\")\n",
    "                for i, angle in enumerate(slider_angles):\n",
    "                    print(f\"Slider {i+1} angle: {angle} degrees\")\n",
    "            else:\n",
    "                print(\"Received data is too short to process.\")\n",
    "    except Exception as e:\n",
    "        print(f\"Error: {e}\")\n",
    "    finally:\n",
    "        # 关闭连接\n",
    "        client_socket.close()"
   ]
  },
  {
   "cell_type": "code",
   "execution_count": null,
   "metadata": {},
   "outputs": [
    {
     "name": "stdout",
     "output_type": "stream",
     "text": [
      "Recent Model: 0\n",
      "Detection: 0\n",
      "Slider 1 angle: 0 degrees\n",
      "Slider 2 angle: 0 degrees\n",
      "Slider 3 angle: 0 degrees\n",
      "Slider 4 angle: 0 degrees\n",
      "Slider 5 angle: 0 degrees\n",
      "Slider 6 angle: 0 degrees\n"
     ]
    }
   ],
   "source": [
    "start_receiver('192.168.1.169',8189)"
   ]
  },
  {
   "cell_type": "code",
   "execution_count": null,
   "metadata": {},
   "outputs": [],
   "source": []
  }
 ],
 "metadata": {
  "kernelspec": {
   "display_name": "Python 3",
   "language": "python",
   "name": "python3"
  },
  "language_info": {
   "codemirror_mode": {
    "name": "ipython",
    "version": 3
   },
   "file_extension": ".py",
   "mimetype": "text/x-python",
   "name": "python",
   "nbconvert_exporter": "python",
   "pygments_lexer": "ipython3",
   "version": "3.6.9"
  }
 },
 "nbformat": 4,
 "nbformat_minor": 4
}
