{
 "cells": [
  {
   "cell_type": "code",
   "execution_count": 1,
   "metadata": {},
   "outputs": [],
   "source": [
    "import socket\n",
    "import cv2\n",
    "import numpy as np\n",
    "import pickle"
   ]
  },
  {
   "cell_type": "code",
   "execution_count": 9,
   "metadata": {},
   "outputs": [
    {
     "ename": "OSError",
     "evalue": "[Errno 9] Bad file descriptor",
     "output_type": "error",
     "traceback": [
      "\u001b[0;31m---------------------------------------------------------------------------\u001b[0m",
      "\u001b[0;31mOSError\u001b[0m                                   Traceback (most recent call last)",
      "\u001b[0;32m/tmp/ipykernel_39721/2023991448.py\u001b[0m in \u001b[0;36m<module>\u001b[0;34m\u001b[0m\n\u001b[1;32m      4\u001b[0m     \u001b[0mdata\u001b[0m \u001b[0;34m=\u001b[0m \u001b[0;34mb\"\"\u001b[0m\u001b[0;34m\u001b[0m\u001b[0;34m\u001b[0m\u001b[0m\n\u001b[1;32m      5\u001b[0m     \u001b[0;32mwhile\u001b[0m \u001b[0mlen\u001b[0m\u001b[0;34m(\u001b[0m\u001b[0mdata\u001b[0m\u001b[0;34m)\u001b[0m \u001b[0;34m<\u001b[0m \u001b[0;36m88888\u001b[0m\u001b[0;34m:\u001b[0m\u001b[0;34m\u001b[0m\u001b[0;34m\u001b[0m\u001b[0m\n\u001b[0;32m----> 6\u001b[0;31m         \u001b[0mpacket\u001b[0m \u001b[0;34m=\u001b[0m \u001b[0mvideo_socket\u001b[0m\u001b[0;34m.\u001b[0m\u001b[0mrecv\u001b[0m\u001b[0;34m(\u001b[0m\u001b[0;36m88888\u001b[0m\u001b[0;34m)\u001b[0m\u001b[0;34m\u001b[0m\u001b[0;34m\u001b[0m\u001b[0m\n\u001b[0m\u001b[1;32m      7\u001b[0m         \u001b[0;32mif\u001b[0m \u001b[0;32mnot\u001b[0m \u001b[0mpacket\u001b[0m\u001b[0;34m:\u001b[0m\u001b[0;34m\u001b[0m\u001b[0;34m\u001b[0m\u001b[0m\n\u001b[1;32m      8\u001b[0m             \u001b[0;32mbreak\u001b[0m\u001b[0;34m\u001b[0m\u001b[0;34m\u001b[0m\u001b[0m\n",
      "\u001b[0;31mOSError\u001b[0m: [Errno 9] Bad file descriptor"
     ]
    }
   ],
   "source": [
    "# 创建 TCP 客户端套接字\n",
    "client_socket = socket.socket(socket.AF_INET, socket.SOCK_STREAM)\n",
    "client_socket.connect((\"localhost\", qtPort))  # 本地端口连接Qt程序\n",
    "\n",
    "# 创建视频接收的 TCP 服务器套接字（接收远程视频流）\n",
    "server_socket = socket.socket(socket.AF_INET, socket.SOCK_STREAM)\n",
    "server_socket.bind((videoIP, videoPort))  # 远程设备连接到这个端口\n",
    "server_socket.listen(1)\n",
    "print(\"Waiting for video connection...\")\n",
    "video_socket, addr = server_socket.accept()\n",
    "print(f\"Connection established with {addr}\")\n",
    "\n",
    "# 接收视频流并进行处理\n",
    "while True:\n",
    "    # 接收数据\n",
    "    data = b\"\"\n",
    "    while len(data) < 88888:\n",
    "        packet = video_socket.recv(88888)\n",
    "        if not packet:\n",
    "            break\n",
    "        data += packet\n",
    "\n",
    "    # 解码图像\n",
    "    img = np.frombuffer(data, dtype=np.uint8)\n",
    "    frame = cv2.imdecode(img, cv2.IMREAD_COLOR)\n",
    "\n",
    "    # 进行深度学习处理，假设使用 OpenCV 或深度学习框架进行处理\n",
    "    # 假设识别结果是一个框，识别出物体并标记\n",
    "    # 假设识别框位置和标签\n",
    "    '''\n",
    "    boxes = [(50, 50, 100, 100, \"Object1\"), (150, 150, 120, 120, \"Object2\")]\n",
    "    for box in boxes:\n",
    "        x, y, w, h, label = box\n",
    "        cv2.rectangle(frame, (x, y), (x + w, y + h), (0, 255, 0), 2)  # 绘制框\n",
    "        cv2.putText(frame, label, (x, y - 10), cv2.FONT_HERSHEY_SIMPLEX, 0.9, (0, 255, 0), 2)\n",
    "    '''\n",
    "\n",
    "    # 编码图像为 JPEG 格式\n",
    "    _, img_encoded = cv2.imencode('.jpg', frame)\n",
    "    img_bytes = img_encoded.tobytes()  # 转为字节数据\n",
    "\n",
    "    # 发送编码后的图像到 Qt\n",
    "    try:\n",
    "        client_socket.sendall(img_bytes)\n",
    "    except Exception as e:\n",
    "        print(f\"Error sending image to Qt: {e}\")\n",
    "        break\n",
    "\n",
    "client_socket.close()\n",
    "video_socket.close()\n",
    "server_socket.close()\n"
   ]
  }
 ],
 "metadata": {
  "kernelspec": {
   "display_name": "pytorch",
   "language": "python",
   "name": "python3"
  },
  "language_info": {
   "codemirror_mode": {
    "name": "ipython",
    "version": 3
   },
   "file_extension": ".py",
   "mimetype": "text/x-python",
   "name": "python",
   "nbconvert_exporter": "python",
   "pygments_lexer": "ipython3",
   "version": "3.10.16"
  },
  "orig_nbformat": 4
 },
 "nbformat": 4,
 "nbformat_minor": 2
}
