{
 "cells": [
  {
   "cell_type": "code",
   "execution_count": 5,
   "metadata": {},
   "outputs": [],
   "source": [
    "import socket\n",
    "from IPython.display import clear_output\n"
   ]
  },
  {
   "cell_type": "code",
   "execution_count": 6,
   "metadata": {},
   "outputs": [],
   "source": [
    "#!/usr/bin/env python3\n",
    "#coding=utf-8\n",
    "import time\n",
    "import actions as Arm_Actions\n",
    "\n",
    "from threading import Thread"
   ]
  },
  {
   "cell_type": "code",
   "execution_count": 7,
   "metadata": {},
   "outputs": [],
   "source": [
    "time_1 = 500\n",
    "time_2 = 1000\n",
    "time_sleep = 0.5\n",
    "\n",
    "recent_model = 2\n",
    "slider_angles = [90,90,90,90,90,90]\n",
    "#lock = Thread.Lock()\n",
    "isRunning = False\n",
    "detection_index = -1"
   ]
  },
  {
   "cell_type": "code",
   "execution_count": 8,
   "metadata": {},
   "outputs": [],
   "source": [
    "# Read the angles of all steering gears and print them out circularly\n",
    "# 读取所有舵机的角度，并打印出来\n",
    "def read_all():\n",
    "    for i in range(6):\n",
    "        aa = Arm_Actions.Arm.Arm_serial_servo_read(i+1)\n",
    "        print(aa)\n",
    "        time.sleep(.01)\n",
    "    time.sleep(.5)\n",
    "    print(\" END OF LINE! \")\n",
    "    \n",
    "def enable_all(onoff):\n",
    "    for i in range(6):\n",
    "        Arm_Actions.Arm.Arm_serial_set_torque(i+1)\n",
    "        time.sleep(.5)\n",
    "\n",
    "def resetSituation():\n",
    "    Arm_Actions.Arm.Arm_serial_servo_write6(90, 90, 90, 90, 90, 90, time_1)\n",
    "    time.sleep(1)\n",
    "    "
   ]
  },
  {
   "cell_type": "code",
   "execution_count": 9,
   "metadata": {},
   "outputs": [],
   "source": [
    "\n",
    "# 'bow','down','eight','five','good','handheart','OK','pray','Rock','seven\n",
    "def task():\n",
    "    global recent_model,slider_angles,isRunning,detection_index\n",
    "    \n",
    "    try:\n",
    "        while True:\n",
    "            #clear_output(wait=True) \n",
    "            print(f\"I AM runnig: {detection_index} + {recent_model} + {isRunning}\")\n",
    "            if isRunning:\n",
    "                time.sleep(0.1)\n",
    "                continue\n",
    "            elif recent_model == 0:\n",
    "                print(f\"i am control\")\n",
    "                Arm_Actions.Arm.Arm_serial_servo_write6(slider_angles[0], slider_angles[1], slider_angles[2],\n",
    "                                                        slider_angles[3], slider_angles[4], slider_angles[5], time_1)\n",
    "                time.sleep(1)\n",
    "            elif recent_model == 1:\n",
    "                if 0<=detection_index<=9 :\n",
    "                    print(f\"i am detect: {detection_index}\")\n",
    "                    Arm_Actions.action(mode=recent_model,action=detection_index,angles=slider_angles)\n",
    "            time.sleep(0.1)\n",
    "    except Exception as e:\n",
    "            print(f\"Error in task: {e}\")"
   ]
  },
  {
   "cell_type": "code",
   "execution_count": 10,
   "metadata": {},
   "outputs": [],
   "source": [
    "resetSituation()"
   ]
  },
  {
   "cell_type": "code",
   "execution_count": 11,
   "metadata": {},
   "outputs": [
    {
     "name": "stdout",
     "output_type": "stream",
     "text": [
      "90\n",
      "91\n",
      "91\n",
      "90\n",
      "89\n",
      "92\n",
      " END OF LINE! \n"
     ]
    }
   ],
   "source": [
    "read_all()"
   ]
  },
  {
   "cell_type": "code",
   "execution_count": 7,
   "metadata": {},
   "outputs": [],
   "source": [
    "Arm_Actions.clap()"
   ]
  },
  {
   "cell_type": "code",
   "execution_count": 8,
   "metadata": {},
   "outputs": [
    {
     "name": "stdout",
     "output_type": "stream",
     "text": [
      "False\n",
      "True\n",
      "False\n"
     ]
    }
   ],
   "source": [
    "print(isRunning)\n",
    "Arm_Actions.action(mode=1,action=2,angles=slider_angles)\n",
    "print(isRunning)"
   ]
  },
  {
   "cell_type": "code",
   "execution_count": 12,
   "metadata": {},
   "outputs": [],
   "source": [
    "def start_receiver(host='0.0.0.0', port=12345):\n",
    "    global recent_model,slider_angles,isRunning,detection_index\n",
    "    # 创建 TCP 套接字\n",
    "    client_socket = socket.socket(socket.AF_INET, socket.SOCK_STREAM)\n",
    "    client_socket.connect((host, port))  # 连接到目标主机和端口\n",
    "    print(f\"Connected to server at {host}:{port}\")\n",
    "    thread = Thread(target=task)\n",
    "    thread.daemon = True # 守护线程\n",
    "    \n",
    "    try:\n",
    "        thread.start()\n",
    "        print(\"启动线程\")\n",
    "\n",
    "        while True:\n",
    "            # 循环接收数据\n",
    "            data = client_socket.recv(1024)  # 假设最大接收数据为 1024 字节\n",
    "            if not data:\n",
    "                print(\"Connection closed by server.\")\n",
    "                detection = -1\n",
    "                break\n",
    "\n",
    "            # 解析接收到的数据\n",
    "            if len(data) >= 8:  # 至少要有 8 个字节 (1 + 1 + 6)\n",
    "                recent_model = data[0]\n",
    "                detection = data[1]\n",
    "                slider_angles = data[2:8]  # 获取后 6 个字节，对应滑块的角度值\n",
    "                \n",
    "                clear_output(wait=True) \n",
    "                # 实现指令\n",
    "                if(not isRunning):\n",
    "                    detection_index = detection\n",
    "                print(f\"Detected: {detection_index} {isRunning}\")\n",
    "\n",
    "                # 打印解析结果\n",
    "                print(f\"Received data: {data.hex()}\")\n",
    "                print(f\"Recent Model: {recent_model}\")\n",
    "                print(f\"Detection: {detection}\")\n",
    "                for i, angle in enumerate(slider_angles):\n",
    "                    print(f\"Slider {i+1} angle: {angle} degrees\")\n",
    "            else:\n",
    "                print(\"Received data is too short to process.\")\n",
    "    except Exception as e:\n",
    "        print(f\"Error: {e}\")\n",
    "    finally:\n",
    "        # 关闭连接\n",
    "        client_socket.close()"
   ]
  },
  {
   "cell_type": "code",
   "execution_count": null,
   "metadata": {},
   "outputs": [
    {
     "name": "stdout",
     "output_type": "stream",
     "text": [
      "Detected: 231 False\n",
      "Received data: 01e75a5a5a5a6581\n",
      "Recent Model: 1\n",
      "Detection: 231\n",
      "Slider 1 angle: 90 degrees\n",
      "Slider 2 angle: 90 degrees\n",
      "Slider 3 angle: 90 degrees\n",
      "Slider 4 angle: 90 degrees\n",
      "Slider 5 angle: 101 degrees\n",
      "Slider 6 angle: 129 degrees\n",
      "I AM runnig: 231 + 1 + False\n"
     ]
    }
   ],
   "source": [
    "start_receiver('192.168.1.169',8189)"
   ]
  },
  {
   "cell_type": "code",
   "execution_count": null,
   "metadata": {},
   "outputs": [],
   "source": []
  }
 ],
 "metadata": {
  "kernelspec": {
   "display_name": "Python 3",
   "language": "python",
   "name": "python3"
  },
  "language_info": {
   "codemirror_mode": {
    "name": "ipython",
    "version": 3
   },
   "file_extension": ".py",
   "mimetype": "text/x-python",
   "name": "python",
   "nbconvert_exporter": "python",
   "pygments_lexer": "ipython3",
   "version": "3.6.9"
  }
 },
 "nbformat": 4,
 "nbformat_minor": 4
}
