{
 "cells": [
  {
   "cell_type": "code",
   "execution_count": 1,
   "metadata": {},
   "outputs": [],
   "source": [
    "import socket\n",
    "import cv2\n",
    "import numpy as np\n",
    "import pickle\n",
    "import time"
   ]
  },
  {
   "cell_type": "code",
   "execution_count": 2,
   "metadata": {},
   "outputs": [],
   "source": [
    "qtPort=8187\n",
    "videoIP=\"127.0.0.1\"\n",
    "videoPort=8188"
   ]
  },
  {
   "cell_type": "code",
   "execution_count": 3,
   "metadata": {},
   "outputs": [],
   "source": [
    "# 创建 TCP 客户端套接字（连接到 Qt 程序）\n",
    "client_socket = socket.socket(socket.AF_INET, socket.SOCK_STREAM)\n",
    "client_socket.connect((\"localhost\", qtPort))  # 本地端口连接Qt程序\n",
    "\n",
    "# 创建视频接收的 TCP 服务器套接字（接收远程视频流）\n",
    "server_socket = socket.socket(socket.AF_INET, socket.SOCK_STREAM)\n",
    "\n",
    "# 绑定之前设置 SO_REUSEADDR\n",
    "server_socket.setsockopt(socket.SOL_SOCKET, socket.SO_REUSEADDR, 1)"
   ]
  },
  {
   "cell_type": "code",
   "execution_count": 4,
   "metadata": {},
   "outputs": [
    {
     "name": "stdout",
     "output_type": "stream",
     "text": [
      "Waiting for video connection...\n",
      "Connection established with ('127.0.0.1', 58764)\n",
      "Error sending image to Qt: [Errno 32] Broken pipe\n",
      "Error occurred: [Errno 22] Invalid argument\n",
      "Reattempting to bind and accept connection...\n"
     ]
    }
   ],
   "source": [
    "\n",
    "# 尝试连接并接收视频流\n",
    "while True:\n",
    "    try:\n",
    "        # 尝试绑定并监听连接\n",
    "        server_socket.bind((videoIP, videoPort))\n",
    "        server_socket.listen(1)\n",
    "        print(\"Waiting for video connection...\")\n",
    "\n",
    "        # 等待远程视频流连接\n",
    "        video_socket, addr = server_socket.accept()\n",
    "        print(f\"Connection established with {addr}\")\n",
    "        \n",
    "        # 接收视频流并进行处理\n",
    "        while True:\n",
    "            data = b\"\"\n",
    "            while len(data) < 88888:\n",
    "                packet = video_socket.recv(88888)\n",
    "                if not packet:\n",
    "                    break\n",
    "                data += packet\n",
    "\n",
    "            if not data:  # 如果没有接收到数据，表示连接已经断开\n",
    "                print(\"Connection lost, retrying...\")\n",
    "                break  # 跳出当前接收循环，重新尝试连接\n",
    "\n",
    "            # 解码图像\n",
    "            img = np.frombuffer(data, dtype=np.uint8)\n",
    "            frame = cv2.imdecode(img, cv2.IMREAD_COLOR)\n",
    "\n",
    "            # 在这里处理图像，例如深度学习识别或其他操作\n",
    "            # 进行深度学习处理，假设使用 OpenCV 或深度学习框架进行处理\n",
    "            '''\n",
    "            # 假设识别结果是一个框，识别出物体并标记\n",
    "            boxes = [(50, 50, 100, 100, \"Object1\"), (150, 150, 120, 120, \"Object2\")]\n",
    "            for box in boxes:\n",
    "                x, y, w, h, label = box\n",
    "                cv2.rectangle(frame, (x, y), (x + w, y + h), (0, 255, 0), 2)  # 绘制框\n",
    "                cv2.putText(frame, label, (x, y - 10), cv2.FONT_HERSHEY_SIMPLEX, 0.9, (0, 255, 0), 2)\n",
    "            '''\n",
    "\n",
    "            # 编码图像并通过 Qt 发送\n",
    "            _, img_encoded = cv2.imencode('.jpg', frame)\n",
    "            img_bytes = img_encoded.tobytes()\n",
    "            try:\n",
    "                client_socket.sendall(img_bytes)\n",
    "            except Exception as e:\n",
    "                print(f\"Error sending image to Qt: {e}\")\n",
    "                break  # 如果发送失败，退出当前循环并重新尝试连接\n",
    "\n",
    "    except (socket.error, Exception) as e:\n",
    "        print(f\"Error occurred: {e}\")\n",
    "        print(\"Reattempting to bind and accept connection...\")\n",
    "        server_socket.close()  # 关闭现有连接，准备重新绑定\n",
    "        time.sleep(3)  # 延时3秒再进行重试\n",
    "        server_socket = socket.socket(socket.AF_INET, socket.SOCK_STREAM)  # 重新创建socket\n",
    "        server_socket.setsockopt(socket.SOL_SOCKET, socket.SO_REUSEADDR, 1)"
   ]
  }
 ],
 "metadata": {
  "kernelspec": {
   "display_name": "pytorch",
   "language": "python",
   "name": "python3"
  },
  "language_info": {
   "codemirror_mode": {
    "name": "ipython",
    "version": 3
   },
   "file_extension": ".py",
   "mimetype": "text/x-python",
   "name": "python",
   "nbconvert_exporter": "python",
   "pygments_lexer": "ipython3",
   "version": "3.10.16"
  },
  "orig_nbformat": 4
 },
 "nbformat": 4,
 "nbformat_minor": 2
}
